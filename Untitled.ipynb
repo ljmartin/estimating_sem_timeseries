{
 "cells": [
  {
   "cell_type": "code",
   "execution_count": 6,
   "metadata": {},
   "outputs": [],
   "source": [
    "import sem_utils\n",
    "\n",
    "import numpy as np\n",
    "import pandas as pd\n",
    "import matplotlib.pyplot as plt"
   ]
  },
  {
   "cell_type": "markdown",
   "metadata": {},
   "source": [
    "# Compare a few techniques for calculating the SEM.\n"
   ]
  },
  {
   "cell_type": "code",
   "execution_count": 42,
   "metadata": {},
   "outputs": [],
   "source": [
    "timeseries_lengths = np.array([30,100,300,1000,3000])\n",
    "\n",
    "timeseries_rhos = np.array([0.1, 0.3, 0.5, 0.7, 0.9])\n",
    "\n",
    "numrpts = 10\n"
   ]
  },
  {
   "cell_type": "code",
   "execution_count": 43,
   "metadata": {},
   "outputs": [],
   "source": [
    "method_names = ['BlockAveraging', 'Chodera', 'Sokal', 'AR1_correction', 'AR1_Bayes']\n",
    "method_functions = [sem_utils.sem_from_blockAveraging,\n",
    "                    sem_utils.sem_from_chodera,\n",
    "                    sem_utils.sem_from_sokal, \n",
    "                    sem_utils.sem_from_autoregressive_correction,\n",
    "                    sem_utils.sem_from_bayesian_estimation]\n",
    "\n",
    "\n",
    "df = pd.DataFrame(columns=['methodName', 'trueRho', 'timeSeriesLength', 'estMean', 'SEM'])\n",
    "row_num = 0\n",
    "\n",
    "for rho in timeseries_rhos:\n",
    "    for datasize in timeseries_lengths:\n",
    "        for rpt in range(numrpts):\n",
    "            timeseries = sem_utils.gen_correlated_curve(rho, datasize)\n",
    "            estimated_mean = timeseries.mean()\n",
    "            \n",
    "            for methodName, function in zip(method_names, method_functions):\n",
    "                sem = function(timeseries)\n",
    "                results = [methodName, rho, datasize, estimated_mean, sem]\n",
    "                print(results)\n",
    "                df.loc[row_num] = results\n",
    "                row_num += 1\n",
    "                \n",
    "\n",
    "df.to"
   ]
  },
  {
   "cell_type": "code",
   "execution_count": 45,
   "metadata": {},
   "outputs": [],
   "source": [
    "df.to_csv('sem_results.csv')"
   ]
  },
  {
   "cell_type": "code",
   "execution_count": null,
   "metadata": {},
   "outputs": [],
   "source": []
  }
 ],
 "metadata": {
  "kernelspec": {
   "display_name": "Python 3",
   "language": "python",
   "name": "python3"
  },
  "language_info": {
   "codemirror_mode": {
    "name": "ipython",
    "version": 3
   },
   "file_extension": ".py",
   "mimetype": "text/x-python",
   "name": "python",
   "nbconvert_exporter": "python",
   "pygments_lexer": "ipython3",
   "version": "3.7.6"
  }
 },
 "nbformat": 4,
 "nbformat_minor": 4
}
