{
 "cells": [
  {
   "cell_type": "code",
   "execution_count": 1,
   "metadata": {},
   "outputs": [],
   "source": [
    "import altair as alt\n",
    "import pandas as pd\n",
    "import numpy as np\n"
   ]
  },
  {
   "cell_type": "code",
   "execution_count": 205,
   "metadata": {},
   "outputs": [
    {
     "name": "stderr",
     "output_type": "stream",
     "text": [
      "/Users/lmar3213/miniconda3/envs/lew_conda/lib/python3.7/site-packages/ipykernel_launcher.py:17: RuntimeWarning: invalid value encountered in sqrt\n"
     ]
    }
   ],
   "source": [
    "z95 = 1.959963984540054\n",
    "results = pd.read_csv('sem_results.csv', index_col=0)\n",
    "method_names = results['methodName'].unique()\n",
    "timeseries_lengths = results['timeSeriesLength'].unique()\n",
    "\n",
    "\n",
    "#calculate which experiments had the true mean within the estimatimed_mean +/- abs(SEM)\n",
    "results['rate'] = results.apply(lambda row: float(np.abs(row['estMean']) < z95*row['SEM'])*0.01, axis=1)\n",
    "\n",
    "#group by all the experimental conditions, sum the number of correct SEMs per condition,\n",
    "#then flatten into long format with reset index:\n",
    "data = pd.DataFrame(results.groupby(['methodName', 'timeSeriesLength', 'trueRho'])['rate'].sum()).reset_index()\n",
    "\n",
    "#calculate confidence intervals for proportions:\n",
    "#(ignore the 'invalid value encountered in sqrt' - this is for rate of '1' which has no confidence interval, \n",
    "#hence the fillna(0))\n",
    "data['confInt'] = data.apply(lambda row: 1.96*np.sqrt(row['rate']*(1-row['rate'])/100), axis=1).fillna(0)\n"
   ]
  },
  {
   "cell_type": "code",
   "execution_count": 287,
   "metadata": {},
   "outputs": [],
   "source": [
    "#This is simply to avoid formatting the faceted plot later:\n",
    "data['trueRho'] =data.apply(lambda row: 'ρ='+str(row['trueRho']),axis=1)"
   ]
  },
  {
   "cell_type": "code",
   "execution_count": 288,
   "metadata": {},
   "outputs": [],
   "source": [
    "#see how poorly the automated block averaging estimates SEM particularly for low rho cases:\n",
    "#results.groupby(['methodName', 'trueRho', 'timeSeriesLength'])['SEM'].std().unstack()\n",
    "\n",
    "#Turn SEM into an estimate of the correlation time:\n",
    "#results\n"
   ]
  },
  {
   "cell_type": "markdown",
   "metadata": {},
   "source": [
    "# Static version:"
   ]
  },
  {
   "cell_type": "code",
   "execution_count": 310,
   "metadata": {},
   "outputs": [
    {
     "data": {
      "text/html": [
       "\n",
       "<div id=\"altair-viz-19704262eb4047f3bdcc05a51b1341ba\"></div>\n",
       "<script type=\"text/javascript\">\n",
       "  (function(spec, embedOpt){\n",
       "    let outputDiv = document.currentScript.previousElementSibling;\n",
       "    if (outputDiv.id !== \"altair-viz-19704262eb4047f3bdcc05a51b1341ba\") {\n",
       "      outputDiv = document.getElementById(\"altair-viz-19704262eb4047f3bdcc05a51b1341ba\");\n",
       "    }\n",
       "    const paths = {\n",
       "      \"vega\": \"https://cdn.jsdelivr.net/npm//vega@5?noext\",\n",
       "      \"vega-lib\": \"https://cdn.jsdelivr.net/npm//vega-lib?noext\",\n",
       "      \"vega-lite\": \"https://cdn.jsdelivr.net/npm//vega-lite@4.8.1?noext\",\n",
       "      \"vega-embed\": \"https://cdn.jsdelivr.net/npm//vega-embed@6?noext\",\n",
       "    };\n",
       "\n",
       "    function loadScript(lib) {\n",
       "      return new Promise(function(resolve, reject) {\n",
       "        var s = document.createElement('script');\n",
       "        s.src = paths[lib];\n",
       "        s.async = true;\n",
       "        s.onload = () => resolve(paths[lib]);\n",
       "        s.onerror = () => reject(`Error loading script: ${paths[lib]}`);\n",
       "        document.getElementsByTagName(\"head\")[0].appendChild(s);\n",
       "      });\n",
       "    }\n",
       "\n",
       "    function showError(err) {\n",
       "      outputDiv.innerHTML = `<div class=\"error\" style=\"color:red;\">${err}</div>`;\n",
       "      throw err;\n",
       "    }\n",
       "\n",
       "    function displayChart(vegaEmbed) {\n",
       "      vegaEmbed(outputDiv, spec, embedOpt)\n",
       "        .catch(err => showError(`Javascript Error: ${err.message}<br>This usually means there's a typo in your chart specification. See the javascript console for the full traceback.`));\n",
       "    }\n",
       "\n",
       "    if(typeof define === \"function\" && define.amd) {\n",
       "      requirejs.config({paths});\n",
       "      require([\"vega-embed\"], displayChart, err => showError(`Error loading script: ${err.message}`));\n",
       "    } else if (typeof vegaEmbed === \"function\") {\n",
       "      displayChart(vegaEmbed);\n",
       "    } else {\n",
       "      loadScript(\"vega\")\n",
       "        .then(() => loadScript(\"vega-lite\"))\n",
       "        .then(() => loadScript(\"vega-embed\"))\n",
       "        .catch(showError)\n",
       "        .then(() => displayChart(vegaEmbed));\n",
       "    }\n",
       "  })({\"config\": {\"view\": {\"continuousWidth\": 400, \"continuousHeight\": 300}, \"header\": {\"labelColor\": \"darkred\", \"labelFontSize\": 14, \"titleColor\": \"darkred\", \"titleFontSize\": 16}, \"legend\": {\"cornerRadius\": 10, \"fillColor\": \"#EEEEEE\", \"orient\": \"top\", \"padding\": 10, \"strokeColor\": \"gray\"}}, \"data\": {\"name\": \"data-50c08f35a2561fdf03b85adde755472d\"}, \"facet\": {\"type\": \"nominal\", \"field\": \"trueRho\", \"title\": \"Autocorrelation parameter (\\u03c1)\"}, \"spec\": {\"layer\": [{\"mark\": {\"type\": \"rule\", \"strokeWidth\": 3}, \"encoding\": {\"color\": {\"type\": \"nominal\", \"field\": \"methodName\"}, \"x\": {\"type\": \"quantitative\", \"field\": \"x_jittered\"}, \"y\": {\"type\": \"quantitative\", \"field\": \"ymin\", \"title\": \"\"}, \"y2\": {\"field\": \"ymax\"}}, \"selection\": {\"selector193\": {\"type\": \"single\", \"fields\": [\"symbol\"]}}, \"transform\": [{\"calculate\": \"0.15*random()*datum.timeSeriesLength+datum.timeSeriesLength\", \"as\": \"x_jittered\"}, {\"calculate\": \"datum.rate-datum.confInt\", \"as\": \"ymin\"}, {\"calculate\": \"datum.rate+datum.confInt\", \"as\": \"ymax\"}, {\"calculate\": \"0.95\", \"as\": \"goal\"}]}, {\"mark\": {\"type\": \"point\", \"filled\": true}, \"encoding\": {\"color\": {\"type\": \"nominal\", \"field\": \"methodName\", \"legend\": {\"title\": \"SEM method\"}}, \"size\": {\"value\": 80}, \"x\": {\"type\": \"quantitative\", \"field\": \"x_jittered\", \"scale\": {\"type\": \"log\"}, \"title\": \"Length of Timeseries\"}, \"y\": {\"type\": \"quantitative\", \"field\": \"rate\", \"scale\": {\"domain\": [0, 1.04]}, \"title\": \"Rate of correct SEM\"}}, \"transform\": [{\"calculate\": \"0.15*random()*datum.timeSeriesLength+datum.timeSeriesLength\", \"as\": \"x_jittered\"}, {\"calculate\": \"datum.rate-datum.confInt\", \"as\": \"ymin\"}, {\"calculate\": \"datum.rate+datum.confInt\", \"as\": \"ymax\"}, {\"calculate\": \"0.95\", \"as\": \"goal\"}]}, {\"mark\": \"line\", \"encoding\": {\"color\": {\"type\": \"nominal\", \"field\": \"methodName\"}, \"x\": {\"type\": \"quantitative\", \"field\": \"x_jittered\"}, \"y\": {\"type\": \"quantitative\", \"field\": \"rate\"}}, \"transform\": [{\"calculate\": \"0.15*random()*datum.timeSeriesLength+datum.timeSeriesLength\", \"as\": \"x_jittered\"}, {\"calculate\": \"datum.rate-datum.confInt\", \"as\": \"ymin\"}, {\"calculate\": \"datum.rate+datum.confInt\", \"as\": \"ymax\"}, {\"calculate\": \"0.95\", \"as\": \"goal\"}]}, {\"mark\": {\"type\": \"rule\", \"color\": \"black\"}, \"encoding\": {\"y\": {\"type\": \"quantitative\", \"field\": \"goal\"}}, \"transform\": [{\"calculate\": \"0.15*random()*datum.timeSeriesLength+datum.timeSeriesLength\", \"as\": \"x_jittered\"}, {\"calculate\": \"datum.rate-datum.confInt\", \"as\": \"ymin\"}, {\"calculate\": \"datum.rate+datum.confInt\", \"as\": \"ymax\"}, {\"calculate\": \"0.95\", \"as\": \"goal\"}]}], \"height\": 200, \"width\": 250}, \"columns\": 3, \"$schema\": \"https://vega.github.io/schema/vega-lite/v4.8.1.json\", \"datasets\": {\"data-50c08f35a2561fdf03b85adde755472d\": [{\"methodName\": \"AR1_Bayes\", \"timeSeriesLength\": 30, \"trueRho\": \"\\u03c1=0.1\", \"rate\": 1.0000000000000007, \"confInt\": 0.0}, {\"methodName\": \"AR1_Bayes\", \"timeSeriesLength\": 30, \"trueRho\": \"\\u03c1=0.3\", \"rate\": 0.9900000000000007, \"confInt\": 0.019501753767289114}, {\"methodName\": \"AR1_Bayes\", \"timeSeriesLength\": 30, \"trueRho\": \"\\u03c1=0.5\", \"rate\": 0.9800000000000006, \"confInt\": 0.027439999999999565}, {\"methodName\": \"AR1_Bayes\", \"timeSeriesLength\": 30, \"trueRho\": \"\\u03c1=0.7\", \"rate\": 0.9900000000000007, \"confInt\": 0.019501753767289114}, {\"methodName\": \"AR1_Bayes\", \"timeSeriesLength\": 30, \"trueRho\": \"\\u03c1=0.9\", \"rate\": 0.9500000000000006, \"confInt\": 0.04271720964669835}, {\"methodName\": \"AR1_Bayes\", \"timeSeriesLength\": 100, \"trueRho\": \"\\u03c1=0.1\", \"rate\": 0.9600000000000006, \"confInt\": 0.03840799916683994}, {\"methodName\": \"AR1_Bayes\", \"timeSeriesLength\": 100, \"trueRho\": \"\\u03c1=0.3\", \"rate\": 0.9800000000000006, \"confInt\": 0.027439999999999565}, {\"methodName\": \"AR1_Bayes\", \"timeSeriesLength\": 100, \"trueRho\": \"\\u03c1=0.5\", \"rate\": 0.9900000000000007, \"confInt\": 0.019501753767289114}, {\"methodName\": \"AR1_Bayes\", \"timeSeriesLength\": 100, \"trueRho\": \"\\u03c1=0.7\", \"rate\": 0.9700000000000006, \"confInt\": 0.033435095334094334}, {\"methodName\": \"AR1_Bayes\", \"timeSeriesLength\": 100, \"trueRho\": \"\\u03c1=0.9\", \"rate\": 0.9600000000000006, \"confInt\": 0.03840799916683994}, {\"methodName\": \"AR1_Bayes\", \"timeSeriesLength\": 300, \"trueRho\": \"\\u03c1=0.1\", \"rate\": 0.9500000000000006, \"confInt\": 0.04271720964669835}, {\"methodName\": \"AR1_Bayes\", \"timeSeriesLength\": 300, \"trueRho\": \"\\u03c1=0.3\", \"rate\": 0.9700000000000006, \"confInt\": 0.033435095334094334}, {\"methodName\": \"AR1_Bayes\", \"timeSeriesLength\": 300, \"trueRho\": \"\\u03c1=0.5\", \"rate\": 0.9800000000000006, \"confInt\": 0.027439999999999565}, {\"methodName\": \"AR1_Bayes\", \"timeSeriesLength\": 300, \"trueRho\": \"\\u03c1=0.7\", \"rate\": 0.9700000000000006, \"confInt\": 0.033435095334094334}, {\"methodName\": \"AR1_Bayes\", \"timeSeriesLength\": 300, \"trueRho\": \"\\u03c1=0.9\", \"rate\": 0.9900000000000007, \"confInt\": 0.019501753767289114}, {\"methodName\": \"AR1_Bayes\", \"timeSeriesLength\": 1000, \"trueRho\": \"\\u03c1=0.1\", \"rate\": 0.9800000000000006, \"confInt\": 0.027439999999999565}, {\"methodName\": \"AR1_Bayes\", \"timeSeriesLength\": 1000, \"trueRho\": \"\\u03c1=0.3\", \"rate\": 0.9700000000000006, \"confInt\": 0.033435095334094334}, {\"methodName\": \"AR1_Bayes\", \"timeSeriesLength\": 1000, \"trueRho\": \"\\u03c1=0.5\", \"rate\": 0.9800000000000006, \"confInt\": 0.027439999999999565}, {\"methodName\": \"AR1_Bayes\", \"timeSeriesLength\": 1000, \"trueRho\": \"\\u03c1=0.7\", \"rate\": 0.9900000000000007, \"confInt\": 0.019501753767289114}, {\"methodName\": \"AR1_Bayes\", \"timeSeriesLength\": 1000, \"trueRho\": \"\\u03c1=0.9\", \"rate\": 0.9700000000000006, \"confInt\": 0.033435095334094334}, {\"methodName\": \"AR1_Bayes\", \"timeSeriesLength\": 3000, \"trueRho\": \"\\u03c1=0.1\", \"rate\": 0.9600000000000006, \"confInt\": 0.03840799916683994}, {\"methodName\": \"AR1_Bayes\", \"timeSeriesLength\": 3000, \"trueRho\": \"\\u03c1=0.3\", \"rate\": 0.9800000000000006, \"confInt\": 0.027439999999999565}, {\"methodName\": \"AR1_Bayes\", \"timeSeriesLength\": 3000, \"trueRho\": \"\\u03c1=0.5\", \"rate\": 0.9700000000000006, \"confInt\": 0.033435095334094334}, {\"methodName\": \"AR1_Bayes\", \"timeSeriesLength\": 3000, \"trueRho\": \"\\u03c1=0.7\", \"rate\": 0.9700000000000006, \"confInt\": 0.033435095334094334}, {\"methodName\": \"AR1_Bayes\", \"timeSeriesLength\": 3000, \"trueRho\": \"\\u03c1=0.9\", \"rate\": 0.9700000000000006, \"confInt\": 0.033435095334094334}, {\"methodName\": \"AR1_correction\", \"timeSeriesLength\": 30, \"trueRho\": \"\\u03c1=0.1\", \"rate\": 0.9300000000000006, \"confInt\": 0.05000881522291825}, {\"methodName\": \"AR1_correction\", \"timeSeriesLength\": 30, \"trueRho\": \"\\u03c1=0.3\", \"rate\": 0.9500000000000006, \"confInt\": 0.04271720964669835}, {\"methodName\": \"AR1_correction\", \"timeSeriesLength\": 30, \"trueRho\": \"\\u03c1=0.5\", \"rate\": 0.8700000000000006, \"confInt\": 0.06591547314553682}, {\"methodName\": \"AR1_correction\", \"timeSeriesLength\": 30, \"trueRho\": \"\\u03c1=0.7\", \"rate\": 0.9100000000000006, \"confInt\": 0.05609162504331623}, {\"methodName\": \"AR1_correction\", \"timeSeriesLength\": 30, \"trueRho\": \"\\u03c1=0.9\", \"rate\": 0.6600000000000004, \"confInt\": 0.09284691917344373}, {\"methodName\": \"AR1_correction\", \"timeSeriesLength\": 100, \"trueRho\": \"\\u03c1=0.1\", \"rate\": 0.9400000000000006, \"confInt\": 0.046547420981188414}, {\"methodName\": \"AR1_correction\", \"timeSeriesLength\": 100, \"trueRho\": \"\\u03c1=0.3\", \"rate\": 0.9400000000000006, \"confInt\": 0.046547420981188414}, {\"methodName\": \"AR1_correction\", \"timeSeriesLength\": 100, \"trueRho\": \"\\u03c1=0.5\", \"rate\": 0.9600000000000006, \"confInt\": 0.03840799916683994}, {\"methodName\": \"AR1_correction\", \"timeSeriesLength\": 100, \"trueRho\": \"\\u03c1=0.7\", \"rate\": 0.9200000000000006, \"confInt\": 0.05317346706770192}, {\"methodName\": \"AR1_correction\", \"timeSeriesLength\": 100, \"trueRho\": \"\\u03c1=0.9\", \"rate\": 0.9000000000000006, \"confInt\": 0.058799999999999845}, {\"methodName\": \"AR1_correction\", \"timeSeriesLength\": 300, \"trueRho\": \"\\u03c1=0.1\", \"rate\": 0.9100000000000006, \"confInt\": 0.05609162504331623}, {\"methodName\": \"AR1_correction\", \"timeSeriesLength\": 300, \"trueRho\": \"\\u03c1=0.3\", \"rate\": 0.9800000000000006, \"confInt\": 0.027439999999999565}, {\"methodName\": \"AR1_correction\", \"timeSeriesLength\": 300, \"trueRho\": \"\\u03c1=0.5\", \"rate\": 0.9600000000000006, \"confInt\": 0.03840799916683994}, {\"methodName\": \"AR1_correction\", \"timeSeriesLength\": 300, \"trueRho\": \"\\u03c1=0.7\", \"rate\": 0.9300000000000006, \"confInt\": 0.05000881522291825}, {\"methodName\": \"AR1_correction\", \"timeSeriesLength\": 300, \"trueRho\": \"\\u03c1=0.9\", \"rate\": 0.9700000000000006, \"confInt\": 0.033435095334094334}, {\"methodName\": \"AR1_correction\", \"timeSeriesLength\": 1000, \"trueRho\": \"\\u03c1=0.1\", \"rate\": 0.9300000000000006, \"confInt\": 0.05000881522291825}, {\"methodName\": \"AR1_correction\", \"timeSeriesLength\": 1000, \"trueRho\": \"\\u03c1=0.3\", \"rate\": 0.9500000000000006, \"confInt\": 0.04271720964669835}, {\"methodName\": \"AR1_correction\", \"timeSeriesLength\": 1000, \"trueRho\": \"\\u03c1=0.5\", \"rate\": 0.9500000000000006, \"confInt\": 0.04271720964669835}, {\"methodName\": \"AR1_correction\", \"timeSeriesLength\": 1000, \"trueRho\": \"\\u03c1=0.7\", \"rate\": 0.9600000000000006, \"confInt\": 0.03840799916683994}, {\"methodName\": \"AR1_correction\", \"timeSeriesLength\": 1000, \"trueRho\": \"\\u03c1=0.9\", \"rate\": 0.9400000000000006, \"confInt\": 0.046547420981188414}, {\"methodName\": \"AR1_correction\", \"timeSeriesLength\": 3000, \"trueRho\": \"\\u03c1=0.1\", \"rate\": 0.9600000000000006, \"confInt\": 0.03840799916683994}, {\"methodName\": \"AR1_correction\", \"timeSeriesLength\": 3000, \"trueRho\": \"\\u03c1=0.3\", \"rate\": 0.9800000000000006, \"confInt\": 0.027439999999999565}, {\"methodName\": \"AR1_correction\", \"timeSeriesLength\": 3000, \"trueRho\": \"\\u03c1=0.5\", \"rate\": 0.9500000000000006, \"confInt\": 0.04271720964669835}, {\"methodName\": \"AR1_correction\", \"timeSeriesLength\": 3000, \"trueRho\": \"\\u03c1=0.7\", \"rate\": 0.9200000000000006, \"confInt\": 0.05317346706770192}, {\"methodName\": \"AR1_correction\", \"timeSeriesLength\": 3000, \"trueRho\": \"\\u03c1=0.9\", \"rate\": 0.9200000000000006, \"confInt\": 0.05317346706770192}, {\"methodName\": \"BlockAveraging\", \"timeSeriesLength\": 30, \"trueRho\": \"\\u03c1=0.1\", \"rate\": 0.9500000000000006, \"confInt\": 0.04271720964669835}, {\"methodName\": \"BlockAveraging\", \"timeSeriesLength\": 30, \"trueRho\": \"\\u03c1=0.3\", \"rate\": 0.9600000000000006, \"confInt\": 0.03840799916683994}, {\"methodName\": \"BlockAveraging\", \"timeSeriesLength\": 30, \"trueRho\": \"\\u03c1=0.5\", \"rate\": 0.9300000000000006, \"confInt\": 0.05000881522291825}, {\"methodName\": \"BlockAveraging\", \"timeSeriesLength\": 30, \"trueRho\": \"\\u03c1=0.7\", \"rate\": 0.9000000000000006, \"confInt\": 0.058799999999999845}, {\"methodName\": \"BlockAveraging\", \"timeSeriesLength\": 30, \"trueRho\": \"\\u03c1=0.9\", \"rate\": 0.7500000000000004, \"confInt\": 0.08487048957087494}, {\"methodName\": \"BlockAveraging\", \"timeSeriesLength\": 100, \"trueRho\": \"\\u03c1=0.1\", \"rate\": 0.9600000000000006, \"confInt\": 0.03840799916683994}, {\"methodName\": \"BlockAveraging\", \"timeSeriesLength\": 100, \"trueRho\": \"\\u03c1=0.3\", \"rate\": 0.9200000000000006, \"confInt\": 0.05317346706770192}, {\"methodName\": \"BlockAveraging\", \"timeSeriesLength\": 100, \"trueRho\": \"\\u03c1=0.5\", \"rate\": 0.9400000000000006, \"confInt\": 0.046547420981188414}, {\"methodName\": \"BlockAveraging\", \"timeSeriesLength\": 100, \"trueRho\": \"\\u03c1=0.7\", \"rate\": 0.9000000000000006, \"confInt\": 0.058799999999999845}, {\"methodName\": \"BlockAveraging\", \"timeSeriesLength\": 100, \"trueRho\": \"\\u03c1=0.9\", \"rate\": 0.8600000000000005, \"confInt\": 0.06800945816575797}, {\"methodName\": \"BlockAveraging\", \"timeSeriesLength\": 300, \"trueRho\": \"\\u03c1=0.1\", \"rate\": 0.9700000000000006, \"confInt\": 0.033435095334094334}, {\"methodName\": \"BlockAveraging\", \"timeSeriesLength\": 300, \"trueRho\": \"\\u03c1=0.3\", \"rate\": 0.9500000000000006, \"confInt\": 0.04271720964669835}, {\"methodName\": \"BlockAveraging\", \"timeSeriesLength\": 300, \"trueRho\": \"\\u03c1=0.5\", \"rate\": 0.9400000000000006, \"confInt\": 0.046547420981188414}, {\"methodName\": \"BlockAveraging\", \"timeSeriesLength\": 300, \"trueRho\": \"\\u03c1=0.7\", \"rate\": 0.9200000000000006, \"confInt\": 0.05317346706770192}, {\"methodName\": \"BlockAveraging\", \"timeSeriesLength\": 300, \"trueRho\": \"\\u03c1=0.9\", \"rate\": 0.9700000000000006, \"confInt\": 0.033435095334094334}, {\"methodName\": \"BlockAveraging\", \"timeSeriesLength\": 1000, \"trueRho\": \"\\u03c1=0.1\", \"rate\": 0.9200000000000006, \"confInt\": 0.05317346706770192}, {\"methodName\": \"BlockAveraging\", \"timeSeriesLength\": 1000, \"trueRho\": \"\\u03c1=0.3\", \"rate\": 0.9600000000000006, \"confInt\": 0.03840799916683994}, {\"methodName\": \"BlockAveraging\", \"timeSeriesLength\": 1000, \"trueRho\": \"\\u03c1=0.5\", \"rate\": 0.9600000000000006, \"confInt\": 0.03840799916683994}, {\"methodName\": \"BlockAveraging\", \"timeSeriesLength\": 1000, \"trueRho\": \"\\u03c1=0.7\", \"rate\": 0.9600000000000006, \"confInt\": 0.03840799916683994}, {\"methodName\": \"BlockAveraging\", \"timeSeriesLength\": 1000, \"trueRho\": \"\\u03c1=0.9\", \"rate\": 0.9400000000000006, \"confInt\": 0.046547420981188414}, {\"methodName\": \"BlockAveraging\", \"timeSeriesLength\": 3000, \"trueRho\": \"\\u03c1=0.1\", \"rate\": 0.9700000000000006, \"confInt\": 0.033435095334094334}, {\"methodName\": \"BlockAveraging\", \"timeSeriesLength\": 3000, \"trueRho\": \"\\u03c1=0.3\", \"rate\": 0.9700000000000006, \"confInt\": 0.033435095334094334}, {\"methodName\": \"BlockAveraging\", \"timeSeriesLength\": 3000, \"trueRho\": \"\\u03c1=0.5\", \"rate\": 0.9500000000000006, \"confInt\": 0.04271720964669835}, {\"methodName\": \"BlockAveraging\", \"timeSeriesLength\": 3000, \"trueRho\": \"\\u03c1=0.7\", \"rate\": 0.9300000000000006, \"confInt\": 0.05000881522291825}, {\"methodName\": \"BlockAveraging\", \"timeSeriesLength\": 3000, \"trueRho\": \"\\u03c1=0.9\", \"rate\": 0.9400000000000006, \"confInt\": 0.046547420981188414}, {\"methodName\": \"Chodera\", \"timeSeriesLength\": 30, \"trueRho\": \"\\u03c1=0.1\", \"rate\": 0.9400000000000006, \"confInt\": 0.046547420981188414}, {\"methodName\": \"Chodera\", \"timeSeriesLength\": 30, \"trueRho\": \"\\u03c1=0.3\", \"rate\": 0.9400000000000006, \"confInt\": 0.046547420981188414}, {\"methodName\": \"Chodera\", \"timeSeriesLength\": 30, \"trueRho\": \"\\u03c1=0.5\", \"rate\": 0.8600000000000005, \"confInt\": 0.06800945816575797}, {\"methodName\": \"Chodera\", \"timeSeriesLength\": 30, \"trueRho\": \"\\u03c1=0.7\", \"rate\": 0.8500000000000005, \"confInt\": 0.06998599859971982}, {\"methodName\": \"Chodera\", \"timeSeriesLength\": 30, \"trueRho\": \"\\u03c1=0.9\", \"rate\": 0.5600000000000003, \"confInt\": 0.09729184138456831}, {\"methodName\": \"Chodera\", \"timeSeriesLength\": 100, \"trueRho\": \"\\u03c1=0.1\", \"rate\": 0.9500000000000006, \"confInt\": 0.04271720964669835}, {\"methodName\": \"Chodera\", \"timeSeriesLength\": 100, \"trueRho\": \"\\u03c1=0.3\", \"rate\": 0.9200000000000006, \"confInt\": 0.05317346706770192}, {\"methodName\": \"Chodera\", \"timeSeriesLength\": 100, \"trueRho\": \"\\u03c1=0.5\", \"rate\": 0.9500000000000006, \"confInt\": 0.04271720964669835}, {\"methodName\": \"Chodera\", \"timeSeriesLength\": 100, \"trueRho\": \"\\u03c1=0.7\", \"rate\": 0.9200000000000006, \"confInt\": 0.05317346706770192}, {\"methodName\": \"Chodera\", \"timeSeriesLength\": 100, \"trueRho\": \"\\u03c1=0.9\", \"rate\": 0.8000000000000005, \"confInt\": 0.07839999999999993}, {\"methodName\": \"Chodera\", \"timeSeriesLength\": 300, \"trueRho\": \"\\u03c1=0.1\", \"rate\": 0.9500000000000006, \"confInt\": 0.04271720964669835}, {\"methodName\": \"Chodera\", \"timeSeriesLength\": 300, \"trueRho\": \"\\u03c1=0.3\", \"rate\": 0.9700000000000006, \"confInt\": 0.033435095334094334}, {\"methodName\": \"Chodera\", \"timeSeriesLength\": 300, \"trueRho\": \"\\u03c1=0.5\", \"rate\": 0.9400000000000006, \"confInt\": 0.046547420981188414}, {\"methodName\": \"Chodera\", \"timeSeriesLength\": 300, \"trueRho\": \"\\u03c1=0.7\", \"rate\": 0.9500000000000006, \"confInt\": 0.04271720964669835}, {\"methodName\": \"Chodera\", \"timeSeriesLength\": 300, \"trueRho\": \"\\u03c1=0.9\", \"rate\": 0.9200000000000006, \"confInt\": 0.05317346706770192}, {\"methodName\": \"Chodera\", \"timeSeriesLength\": 1000, \"trueRho\": \"\\u03c1=0.1\", \"rate\": 0.9400000000000006, \"confInt\": 0.046547420981188414}, {\"methodName\": \"Chodera\", \"timeSeriesLength\": 1000, \"trueRho\": \"\\u03c1=0.3\", \"rate\": 0.9500000000000006, \"confInt\": 0.04271720964669835}, {\"methodName\": \"Chodera\", \"timeSeriesLength\": 1000, \"trueRho\": \"\\u03c1=0.5\", \"rate\": 0.9600000000000006, \"confInt\": 0.03840799916683994}, {\"methodName\": \"Chodera\", \"timeSeriesLength\": 1000, \"trueRho\": \"\\u03c1=0.7\", \"rate\": 0.9600000000000006, \"confInt\": 0.03840799916683994}, {\"methodName\": \"Chodera\", \"timeSeriesLength\": 1000, \"trueRho\": \"\\u03c1=0.9\", \"rate\": 0.9400000000000006, \"confInt\": 0.046547420981188414}, {\"methodName\": \"Chodera\", \"timeSeriesLength\": 3000, \"trueRho\": \"\\u03c1=0.1\", \"rate\": 0.9600000000000006, \"confInt\": 0.03840799916683994}, {\"methodName\": \"Chodera\", \"timeSeriesLength\": 3000, \"trueRho\": \"\\u03c1=0.3\", \"rate\": 0.9800000000000006, \"confInt\": 0.027439999999999565}, {\"methodName\": \"Chodera\", \"timeSeriesLength\": 3000, \"trueRho\": \"\\u03c1=0.5\", \"rate\": 0.9500000000000006, \"confInt\": 0.04271720964669835}, {\"methodName\": \"Chodera\", \"timeSeriesLength\": 3000, \"trueRho\": \"\\u03c1=0.7\", \"rate\": 0.9100000000000006, \"confInt\": 0.05609162504331623}, {\"methodName\": \"Chodera\", \"timeSeriesLength\": 3000, \"trueRho\": \"\\u03c1=0.9\", \"rate\": 0.9300000000000006, \"confInt\": 0.05000881522291825}, {\"methodName\": \"Sokal\", \"timeSeriesLength\": 30, \"trueRho\": \"\\u03c1=0.1\", \"rate\": 0.7900000000000005, \"confInt\": 0.07983241446931183}, {\"methodName\": \"Sokal\", \"timeSeriesLength\": 30, \"trueRho\": \"\\u03c1=0.3\", \"rate\": 0.8000000000000005, \"confInt\": 0.07839999999999993}, {\"methodName\": \"Sokal\", \"timeSeriesLength\": 30, \"trueRho\": \"\\u03c1=0.5\", \"rate\": 0.6900000000000004, \"confInt\": 0.09064867566600185}, {\"methodName\": \"Sokal\", \"timeSeriesLength\": 30, \"trueRho\": \"\\u03c1=0.7\", \"rate\": 0.6800000000000004, \"confInt\": 0.09142932571117428}, {\"methodName\": \"Sokal\", \"timeSeriesLength\": 30, \"trueRho\": \"\\u03c1=0.9\", \"rate\": 0.3900000000000002, \"confInt\": 0.09559898744233646}, {\"methodName\": \"Sokal\", \"timeSeriesLength\": 100, \"trueRho\": \"\\u03c1=0.1\", \"rate\": 0.9200000000000006, \"confInt\": 0.05317346706770192}, {\"methodName\": \"Sokal\", \"timeSeriesLength\": 100, \"trueRho\": \"\\u03c1=0.3\", \"rate\": 0.8500000000000005, \"confInt\": 0.06998599859971982}, {\"methodName\": \"Sokal\", \"timeSeriesLength\": 100, \"trueRho\": \"\\u03c1=0.5\", \"rate\": 0.9100000000000006, \"confInt\": 0.05609162504331623}, {\"methodName\": \"Sokal\", \"timeSeriesLength\": 100, \"trueRho\": \"\\u03c1=0.7\", \"rate\": 0.8000000000000005, \"confInt\": 0.07839999999999993}, {\"methodName\": \"Sokal\", \"timeSeriesLength\": 100, \"trueRho\": \"\\u03c1=0.9\", \"rate\": 0.7100000000000004, \"confInt\": 0.08893736222758124}, {\"methodName\": \"Sokal\", \"timeSeriesLength\": 300, \"trueRho\": \"\\u03c1=0.1\", \"rate\": 0.9400000000000006, \"confInt\": 0.046547420981188414}, {\"methodName\": \"Sokal\", \"timeSeriesLength\": 300, \"trueRho\": \"\\u03c1=0.3\", \"rate\": 0.9500000000000006, \"confInt\": 0.04271720964669835}, {\"methodName\": \"Sokal\", \"timeSeriesLength\": 300, \"trueRho\": \"\\u03c1=0.5\", \"rate\": 0.9300000000000006, \"confInt\": 0.05000881522291825}, {\"methodName\": \"Sokal\", \"timeSeriesLength\": 300, \"trueRho\": \"\\u03c1=0.7\", \"rate\": 0.8600000000000005, \"confInt\": 0.06800945816575797}, {\"methodName\": \"Sokal\", \"timeSeriesLength\": 300, \"trueRho\": \"\\u03c1=0.9\", \"rate\": 0.8700000000000006, \"confInt\": 0.06591547314553682}, {\"methodName\": \"Sokal\", \"timeSeriesLength\": 1000, \"trueRho\": \"\\u03c1=0.1\", \"rate\": 0.9200000000000006, \"confInt\": 0.05317346706770192}, {\"methodName\": \"Sokal\", \"timeSeriesLength\": 1000, \"trueRho\": \"\\u03c1=0.3\", \"rate\": 0.9600000000000006, \"confInt\": 0.03840799916683994}, {\"methodName\": \"Sokal\", \"timeSeriesLength\": 1000, \"trueRho\": \"\\u03c1=0.5\", \"rate\": 0.9500000000000006, \"confInt\": 0.04271720964669835}, {\"methodName\": \"Sokal\", \"timeSeriesLength\": 1000, \"trueRho\": \"\\u03c1=0.7\", \"rate\": 0.9500000000000006, \"confInt\": 0.04271720964669835}, {\"methodName\": \"Sokal\", \"timeSeriesLength\": 1000, \"trueRho\": \"\\u03c1=0.9\", \"rate\": 0.9100000000000006, \"confInt\": 0.05609162504331623}, {\"methodName\": \"Sokal\", \"timeSeriesLength\": 3000, \"trueRho\": \"\\u03c1=0.1\", \"rate\": 0.9600000000000006, \"confInt\": 0.03840799916683994}, {\"methodName\": \"Sokal\", \"timeSeriesLength\": 3000, \"trueRho\": \"\\u03c1=0.3\", \"rate\": 0.9800000000000006, \"confInt\": 0.027439999999999565}, {\"methodName\": \"Sokal\", \"timeSeriesLength\": 3000, \"trueRho\": \"\\u03c1=0.5\", \"rate\": 0.9500000000000006, \"confInt\": 0.04271720964669835}, {\"methodName\": \"Sokal\", \"timeSeriesLength\": 3000, \"trueRho\": \"\\u03c1=0.7\", \"rate\": 0.9000000000000006, \"confInt\": 0.058799999999999845}, {\"methodName\": \"Sokal\", \"timeSeriesLength\": 3000, \"trueRho\": \"\\u03c1=0.9\", \"rate\": 0.9300000000000006, \"confInt\": 0.05000881522291825}]}}, {\"mode\": \"vega-lite\"});\n",
       "</script>"
      ],
      "text/plain": [
       "alt.FacetChart(...)"
      ]
     },
     "execution_count": 310,
     "metadata": {},
     "output_type": "execute_result"
    }
   ],
   "source": [
    "# the base chart\n",
    "base = alt.Chart(data).transform_calculate(\n",
    "    x_jittered = '0.15*random()*datum.timeSeriesLength+datum.timeSeriesLength',\n",
    "    ymin=\"datum.rate-datum.confInt\",\n",
    "    ymax=\"datum.rate+datum.confInt\",\n",
    "    goal='0.95')\n",
    "\n",
    "\n",
    "\n",
    "#generate the scatter points:\n",
    "points = base.mark_point(filled=True).encode(\n",
    "    x=alt.X('x_jittered:Q', scale=alt.Scale(type='log'), title='Length of Timeseries'),\n",
    "    y=alt.Y('rate:Q', scale=alt.Scale(domain=[0,1.04]), title='Rate of correct SEM'),\n",
    "    size=alt.value(80),\n",
    "    color=alt.Color('methodName', legend=alt.Legend(title=\"SEM method\")))\n",
    "\n",
    "#generate the scatter points:\n",
    "line = base.mark_line().encode(\n",
    "    x=alt.X('x_jittered:Q'),\n",
    "    y=alt.Y('rate:Q'),\n",
    "    color='methodName')\n",
    "\n",
    "# scale=alt.Scale(type='log', domain=[0.001, 1000]),\n",
    "#           axis=alt.Axis(tickCount=5)\n",
    "    \n",
    "#generate the 95% mark:\n",
    "rule = base.mark_rule(color='black').encode(\n",
    "    alt.Y('goal:Q'))\n",
    "\n",
    "# generate the error bars:\n",
    "# errorbars = base.mark_errorbar().encode(\n",
    "#     alt.X(\"x_jittered:Q\"),\n",
    "#     alt.Y(\"ymin:Q\", title=''),\n",
    "#     alt.Y2(\"ymax:Q\"),\n",
    "#     color='methodName')\n",
    "\n",
    "errorbars = base.mark_rule(strokeWidth=3).encode(\n",
    "    alt.X(\"x_jittered:Q\"),\n",
    "    alt.Y(\"ymin:Q\", title=''),\n",
    "    alt.Y2(\"ymax:Q\"),\n",
    "    color='methodName'\n",
    ")\n",
    "\n",
    "\n",
    "selection = alt.selection_single(fields=['symbol']);\n",
    "\n",
    "chart = alt.layer(\n",
    "    \n",
    "  errorbars,\n",
    "  points,\n",
    "  line,\n",
    "  rule,\n",
    "    \n",
    ").properties(\n",
    "    width=250,\n",
    "    height=200\n",
    "    ).add_selection(selection).facet(facet=alt.Facet('trueRho:N', \n",
    "                                                     title='Autocorrelation parameter (ρ)'), columns=3)\n",
    "\n",
    "\n",
    "chart = chart.configure_header(titleColor='darkred',\n",
    "                       titleFontSize=16,\n",
    "                      labelColor='darkred',\n",
    "                      labelFontSize=14)\n",
    "\n",
    "chart = chart.configure_legend(\n",
    "    strokeColor='gray',\n",
    "    fillColor='#EEEEEE',\n",
    "    padding=10,\n",
    "    cornerRadius=10,\n",
    "    orient='top'\n",
    ")\n",
    "\n",
    "\n",
    "chart"
   ]
  },
  {
   "cell_type": "code",
   "execution_count": null,
   "metadata": {},
   "outputs": [],
   "source": []
  },
  {
   "cell_type": "code",
   "execution_count": null,
   "metadata": {},
   "outputs": [],
   "source": []
  },
  {
   "cell_type": "code",
   "execution_count": null,
   "metadata": {},
   "outputs": [],
   "source": []
  },
  {
   "cell_type": "code",
   "execution_count": null,
   "metadata": {},
   "outputs": [],
   "source": []
  },
  {
   "cell_type": "code",
   "execution_count": null,
   "metadata": {},
   "outputs": [],
   "source": []
  },
  {
   "cell_type": "code",
   "execution_count": null,
   "metadata": {},
   "outputs": [],
   "source": []
  },
  {
   "cell_type": "markdown",
   "metadata": {},
   "source": [
    "# Interactive version:\n"
   ]
  },
  {
   "cell_type": "code",
   "execution_count": 346,
   "metadata": {},
   "outputs": [],
   "source": [
    "\n",
    "\n",
    "# the base chart\n",
    "base = alt.Chart(data).transform_calculate(\n",
    "    x_jittered = '0.15*random()*datum.timeSeriesLength+datum.timeSeriesLength',\n",
    "    ymin=\"datum.rate-datum.confInt\",\n",
    "    ymax=\"datum.rate+datum.confInt\",\n",
    "    goal='0.95')\n",
    "\n",
    "\n",
    "selector = alt.selection_single(\n",
    "        fields=['methodName'], \n",
    "        empty='all',\n",
    "    bind='legend'\n",
    "    )\n",
    "\n",
    "#generate the scatter points:\n",
    "points = base.mark_point(filled=True).add_selection(selector).encode(\n",
    "    x=alt.X('x_jittered:Q', scale=alt.Scale(type='log'), title='Length of Timeseries'),\n",
    "    y=alt.Y('rate:Q', scale=alt.Scale(domain=[0,1.04]), title='Rate of correct SEM'),\n",
    "    size=alt.value(80),\n",
    "    color=alt.condition(selector, 'methodName:N', alt.value('lightgrey'),legend=alt.Legend(title='SEM Method-Click to highlight!')),\n",
    "    tooltip=['methodName:N'],)\n",
    "    #color='methodName')\n",
    "    \n",
    "    \n",
    "# alt.Chart(iris).mark_point().encode(\n",
    "#     x='petalWidth',\n",
    "#     y='petalLength',    \n",
    "#     color=alt.condition(click,\n",
    "#                         'species:N', alt.value('lightgray'), \n",
    "#                         scale=palette,\n",
    "#                         legend=None)\n",
    "    \n",
    "selector = alt.selection_single(\n",
    "        fields=['methodName'], \n",
    "        empty='all',\n",
    "    bind='legend'\n",
    "    )\n",
    "    \n",
    "#generate the lines:\n",
    "line = base.mark_line().add_selection(selector).encode(\n",
    "    x=alt.X('x_jittered:Q'),\n",
    "    y=alt.Y('rate:Q'),\n",
    "    color=alt.condition(selector, 'methodName:N', alt.value('lightgrey')))\n",
    "    #color='methodName')\n",
    "\n",
    "# #generate the 95% mark:\n",
    "# rule = base.mark_rule(color='black').encode(\n",
    "#     alt.Y('goal:Q'))\n",
    "\n",
    "selector = alt.selection_single(\n",
    "        fields=['methodName'], \n",
    "        empty='all',\n",
    "    bind='legend'\n",
    "    )\n",
    "\n",
    "errorbars = base.mark_rule(strokeWidth=3).add_selection(selector).encode(\n",
    "    alt.X(\"x_jittered:Q\"),\n",
    "    alt.Y(\"ymin:Q\", title=''),\n",
    "    alt.Y2(\"ymax:Q\"),\n",
    "    color=alt.condition(selector, 'methodName:N', alt.value('lightgrey')))\n",
    "    #color='methodName')"
   ]
  },
  {
   "cell_type": "code",
   "execution_count": 347,
   "metadata": {},
   "outputs": [],
   "source": [
    "chart = alt.layer(\n",
    "    \n",
    "  errorbars,\n",
    "  points,\n",
    "  line,\n",
    "  rule,\n",
    "    \n",
    ").properties(\n",
    "    width=250,\n",
    "    height=200\n",
    ").facet(facet=alt.Facet('trueRho:N', title='Autocorrelation parameter (ρ)'), columns=3)\n"
   ]
  },
  {
   "cell_type": "code",
   "execution_count": 348,
   "metadata": {},
   "outputs": [],
   "source": [
    "chart = chart.configure_header(titleColor='darkred',\n",
    "                       titleFontSize=16,\n",
    "                      labelColor='darkred',\n",
    "                      labelFontSize=14)\n",
    "\n",
    "chart = chart.configure_legend(\n",
    "    strokeColor='gray',\n",
    "    fillColor='#EEEEEE',\n",
    "    padding=10,\n",
    "    cornerRadius=10,\n",
    "    orient='top'\n",
    ")\n"
   ]
  },
  {
   "cell_type": "code",
   "execution_count": 349,
   "metadata": {},
   "outputs": [
    {
     "data": {
      "text/html": [
       "\n",
       "<div id=\"altair-viz-bdb5b324bfaf47c4a5716fb298a6e2b2\"></div>\n",
       "<script type=\"text/javascript\">\n",
       "  (function(spec, embedOpt){\n",
       "    let outputDiv = document.currentScript.previousElementSibling;\n",
       "    if (outputDiv.id !== \"altair-viz-bdb5b324bfaf47c4a5716fb298a6e2b2\") {\n",
       "      outputDiv = document.getElementById(\"altair-viz-bdb5b324bfaf47c4a5716fb298a6e2b2\");\n",
       "    }\n",
       "    const paths = {\n",
       "      \"vega\": \"https://cdn.jsdelivr.net/npm//vega@5?noext\",\n",
       "      \"vega-lib\": \"https://cdn.jsdelivr.net/npm//vega-lib?noext\",\n",
       "      \"vega-lite\": \"https://cdn.jsdelivr.net/npm//vega-lite@4.8.1?noext\",\n",
       "      \"vega-embed\": \"https://cdn.jsdelivr.net/npm//vega-embed@6?noext\",\n",
       "    };\n",
       "\n",
       "    function loadScript(lib) {\n",
       "      return new Promise(function(resolve, reject) {\n",
       "        var s = document.createElement('script');\n",
       "        s.src = paths[lib];\n",
       "        s.async = true;\n",
       "        s.onload = () => resolve(paths[lib]);\n",
       "        s.onerror = () => reject(`Error loading script: ${paths[lib]}`);\n",
       "        document.getElementsByTagName(\"head\")[0].appendChild(s);\n",
       "      });\n",
       "    }\n",
       "\n",
       "    function showError(err) {\n",
       "      outputDiv.innerHTML = `<div class=\"error\" style=\"color:red;\">${err}</div>`;\n",
       "      throw err;\n",
       "    }\n",
       "\n",
       "    function displayChart(vegaEmbed) {\n",
       "      vegaEmbed(outputDiv, spec, embedOpt)\n",
       "        .catch(err => showError(`Javascript Error: ${err.message}<br>This usually means there's a typo in your chart specification. See the javascript console for the full traceback.`));\n",
       "    }\n",
       "\n",
       "    if(typeof define === \"function\" && define.amd) {\n",
       "      requirejs.config({paths});\n",
       "      require([\"vega-embed\"], displayChart, err => showError(`Error loading script: ${err.message}`));\n",
       "    } else if (typeof vegaEmbed === \"function\") {\n",
       "      displayChart(vegaEmbed);\n",
       "    } else {\n",
       "      loadScript(\"vega\")\n",
       "        .then(() => loadScript(\"vega-lite\"))\n",
       "        .then(() => loadScript(\"vega-embed\"))\n",
       "        .catch(showError)\n",
       "        .then(() => displayChart(vegaEmbed));\n",
       "    }\n",
       "  })({\"config\": {\"view\": {\"continuousWidth\": 400, \"continuousHeight\": 300}, \"header\": {\"labelColor\": \"darkred\", \"labelFontSize\": 14, \"titleColor\": \"darkred\", \"titleFontSize\": 16}, \"legend\": {\"cornerRadius\": 10, \"fillColor\": \"#EEEEEE\", \"orient\": \"top\", \"padding\": 10, \"strokeColor\": \"gray\"}}, \"data\": {\"name\": \"data-50c08f35a2561fdf03b85adde755472d\"}, \"facet\": {\"type\": \"nominal\", \"field\": \"trueRho\", \"title\": \"Autocorrelation parameter (\\u03c1)\"}, \"spec\": {\"layer\": [{\"mark\": {\"type\": \"rule\", \"strokeWidth\": 3}, \"encoding\": {\"color\": {\"condition\": {\"type\": \"nominal\", \"field\": \"methodName\", \"selection\": \"selector232\"}, \"value\": \"lightgrey\"}, \"x\": {\"type\": \"quantitative\", \"field\": \"x_jittered\"}, \"y\": {\"type\": \"quantitative\", \"field\": \"ymin\", \"title\": \"\"}, \"y2\": {\"field\": \"ymax\"}}, \"selection\": {\"selector232\": {\"type\": \"single\", \"fields\": [\"methodName\"], \"empty\": \"all\", \"bind\": \"legend\"}, \"selector233\": {\"type\": \"interval\", \"bind\": \"scales\", \"encodings\": [\"x\", \"y\"]}}, \"transform\": [{\"calculate\": \"0.15*random()*datum.timeSeriesLength+datum.timeSeriesLength\", \"as\": \"x_jittered\"}, {\"calculate\": \"datum.rate-datum.confInt\", \"as\": \"ymin\"}, {\"calculate\": \"datum.rate+datum.confInt\", \"as\": \"ymax\"}, {\"calculate\": \"0.95\", \"as\": \"goal\"}]}, {\"mark\": {\"type\": \"point\", \"filled\": true}, \"encoding\": {\"color\": {\"condition\": {\"type\": \"nominal\", \"field\": \"methodName\", \"legend\": {\"title\": \"SEM Method-Click to highlight!\"}, \"selection\": \"selector230\"}, \"value\": \"lightgrey\"}, \"size\": {\"value\": 80}, \"tooltip\": [{\"type\": \"nominal\", \"field\": \"methodName\"}], \"x\": {\"type\": \"quantitative\", \"field\": \"x_jittered\", \"scale\": {\"type\": \"log\"}, \"title\": \"Length of Timeseries\"}, \"y\": {\"type\": \"quantitative\", \"field\": \"rate\", \"scale\": {\"domain\": [0, 1.04]}, \"title\": \"Rate of correct SEM\"}}, \"selection\": {\"selector230\": {\"type\": \"single\", \"fields\": [\"methodName\"], \"empty\": \"all\", \"bind\": \"legend\"}}, \"transform\": [{\"calculate\": \"0.15*random()*datum.timeSeriesLength+datum.timeSeriesLength\", \"as\": \"x_jittered\"}, {\"calculate\": \"datum.rate-datum.confInt\", \"as\": \"ymin\"}, {\"calculate\": \"datum.rate+datum.confInt\", \"as\": \"ymax\"}, {\"calculate\": \"0.95\", \"as\": \"goal\"}]}, {\"mark\": \"line\", \"encoding\": {\"color\": {\"condition\": {\"type\": \"nominal\", \"field\": \"methodName\", \"selection\": \"selector231\"}, \"value\": \"lightgrey\"}, \"x\": {\"type\": \"quantitative\", \"field\": \"x_jittered\"}, \"y\": {\"type\": \"quantitative\", \"field\": \"rate\"}}, \"selection\": {\"selector231\": {\"type\": \"single\", \"fields\": [\"methodName\"], \"empty\": \"all\", \"bind\": \"legend\"}}, \"transform\": [{\"calculate\": \"0.15*random()*datum.timeSeriesLength+datum.timeSeriesLength\", \"as\": \"x_jittered\"}, {\"calculate\": \"datum.rate-datum.confInt\", \"as\": \"ymin\"}, {\"calculate\": \"datum.rate+datum.confInt\", \"as\": \"ymax\"}, {\"calculate\": \"0.95\", \"as\": \"goal\"}]}, {\"mark\": {\"type\": \"rule\", \"color\": \"black\"}, \"encoding\": {\"y\": {\"type\": \"quantitative\", \"field\": \"goal\"}}, \"transform\": [{\"calculate\": \"0.15*random()*datum.timeSeriesLength+datum.timeSeriesLength\", \"as\": \"x_jittered\"}, {\"calculate\": \"datum.rate-datum.confInt\", \"as\": \"ymin\"}, {\"calculate\": \"datum.rate+datum.confInt\", \"as\": \"ymax\"}, {\"calculate\": \"0.95\", \"as\": \"goal\"}]}], \"height\": 200, \"width\": 250}, \"columns\": 3, \"$schema\": \"https://vega.github.io/schema/vega-lite/v4.8.1.json\", \"datasets\": {\"data-50c08f35a2561fdf03b85adde755472d\": [{\"methodName\": \"AR1_Bayes\", \"timeSeriesLength\": 30, \"trueRho\": \"\\u03c1=0.1\", \"rate\": 1.0000000000000007, \"confInt\": 0.0}, {\"methodName\": \"AR1_Bayes\", \"timeSeriesLength\": 30, \"trueRho\": \"\\u03c1=0.3\", \"rate\": 0.9900000000000007, \"confInt\": 0.019501753767289114}, {\"methodName\": \"AR1_Bayes\", \"timeSeriesLength\": 30, \"trueRho\": \"\\u03c1=0.5\", \"rate\": 0.9800000000000006, \"confInt\": 0.027439999999999565}, {\"methodName\": \"AR1_Bayes\", \"timeSeriesLength\": 30, \"trueRho\": \"\\u03c1=0.7\", \"rate\": 0.9900000000000007, \"confInt\": 0.019501753767289114}, {\"methodName\": \"AR1_Bayes\", \"timeSeriesLength\": 30, \"trueRho\": \"\\u03c1=0.9\", \"rate\": 0.9500000000000006, \"confInt\": 0.04271720964669835}, {\"methodName\": \"AR1_Bayes\", \"timeSeriesLength\": 100, \"trueRho\": \"\\u03c1=0.1\", \"rate\": 0.9600000000000006, \"confInt\": 0.03840799916683994}, {\"methodName\": \"AR1_Bayes\", \"timeSeriesLength\": 100, \"trueRho\": \"\\u03c1=0.3\", \"rate\": 0.9800000000000006, \"confInt\": 0.027439999999999565}, {\"methodName\": \"AR1_Bayes\", \"timeSeriesLength\": 100, \"trueRho\": \"\\u03c1=0.5\", \"rate\": 0.9900000000000007, \"confInt\": 0.019501753767289114}, {\"methodName\": \"AR1_Bayes\", \"timeSeriesLength\": 100, \"trueRho\": \"\\u03c1=0.7\", \"rate\": 0.9700000000000006, \"confInt\": 0.033435095334094334}, {\"methodName\": \"AR1_Bayes\", \"timeSeriesLength\": 100, \"trueRho\": \"\\u03c1=0.9\", \"rate\": 0.9600000000000006, \"confInt\": 0.03840799916683994}, {\"methodName\": \"AR1_Bayes\", \"timeSeriesLength\": 300, \"trueRho\": \"\\u03c1=0.1\", \"rate\": 0.9500000000000006, \"confInt\": 0.04271720964669835}, {\"methodName\": \"AR1_Bayes\", \"timeSeriesLength\": 300, \"trueRho\": \"\\u03c1=0.3\", \"rate\": 0.9700000000000006, \"confInt\": 0.033435095334094334}, {\"methodName\": \"AR1_Bayes\", \"timeSeriesLength\": 300, \"trueRho\": \"\\u03c1=0.5\", \"rate\": 0.9800000000000006, \"confInt\": 0.027439999999999565}, {\"methodName\": \"AR1_Bayes\", \"timeSeriesLength\": 300, \"trueRho\": \"\\u03c1=0.7\", \"rate\": 0.9700000000000006, \"confInt\": 0.033435095334094334}, {\"methodName\": \"AR1_Bayes\", \"timeSeriesLength\": 300, \"trueRho\": \"\\u03c1=0.9\", \"rate\": 0.9900000000000007, \"confInt\": 0.019501753767289114}, {\"methodName\": \"AR1_Bayes\", \"timeSeriesLength\": 1000, \"trueRho\": \"\\u03c1=0.1\", \"rate\": 0.9800000000000006, \"confInt\": 0.027439999999999565}, {\"methodName\": \"AR1_Bayes\", \"timeSeriesLength\": 1000, \"trueRho\": \"\\u03c1=0.3\", \"rate\": 0.9700000000000006, \"confInt\": 0.033435095334094334}, {\"methodName\": \"AR1_Bayes\", \"timeSeriesLength\": 1000, \"trueRho\": \"\\u03c1=0.5\", \"rate\": 0.9800000000000006, \"confInt\": 0.027439999999999565}, {\"methodName\": \"AR1_Bayes\", \"timeSeriesLength\": 1000, \"trueRho\": \"\\u03c1=0.7\", \"rate\": 0.9900000000000007, \"confInt\": 0.019501753767289114}, {\"methodName\": \"AR1_Bayes\", \"timeSeriesLength\": 1000, \"trueRho\": \"\\u03c1=0.9\", \"rate\": 0.9700000000000006, \"confInt\": 0.033435095334094334}, {\"methodName\": \"AR1_Bayes\", \"timeSeriesLength\": 3000, \"trueRho\": \"\\u03c1=0.1\", \"rate\": 0.9600000000000006, \"confInt\": 0.03840799916683994}, {\"methodName\": \"AR1_Bayes\", \"timeSeriesLength\": 3000, \"trueRho\": \"\\u03c1=0.3\", \"rate\": 0.9800000000000006, \"confInt\": 0.027439999999999565}, {\"methodName\": \"AR1_Bayes\", \"timeSeriesLength\": 3000, \"trueRho\": \"\\u03c1=0.5\", \"rate\": 0.9700000000000006, \"confInt\": 0.033435095334094334}, {\"methodName\": \"AR1_Bayes\", \"timeSeriesLength\": 3000, \"trueRho\": \"\\u03c1=0.7\", \"rate\": 0.9700000000000006, \"confInt\": 0.033435095334094334}, {\"methodName\": \"AR1_Bayes\", \"timeSeriesLength\": 3000, \"trueRho\": \"\\u03c1=0.9\", \"rate\": 0.9700000000000006, \"confInt\": 0.033435095334094334}, {\"methodName\": \"AR1_correction\", \"timeSeriesLength\": 30, \"trueRho\": \"\\u03c1=0.1\", \"rate\": 0.9300000000000006, \"confInt\": 0.05000881522291825}, {\"methodName\": \"AR1_correction\", \"timeSeriesLength\": 30, \"trueRho\": \"\\u03c1=0.3\", \"rate\": 0.9500000000000006, \"confInt\": 0.04271720964669835}, {\"methodName\": \"AR1_correction\", \"timeSeriesLength\": 30, \"trueRho\": \"\\u03c1=0.5\", \"rate\": 0.8700000000000006, \"confInt\": 0.06591547314553682}, {\"methodName\": \"AR1_correction\", \"timeSeriesLength\": 30, \"trueRho\": \"\\u03c1=0.7\", \"rate\": 0.9100000000000006, \"confInt\": 0.05609162504331623}, {\"methodName\": \"AR1_correction\", \"timeSeriesLength\": 30, \"trueRho\": \"\\u03c1=0.9\", \"rate\": 0.6600000000000004, \"confInt\": 0.09284691917344373}, {\"methodName\": \"AR1_correction\", \"timeSeriesLength\": 100, \"trueRho\": \"\\u03c1=0.1\", \"rate\": 0.9400000000000006, \"confInt\": 0.046547420981188414}, {\"methodName\": \"AR1_correction\", \"timeSeriesLength\": 100, \"trueRho\": \"\\u03c1=0.3\", \"rate\": 0.9400000000000006, \"confInt\": 0.046547420981188414}, {\"methodName\": \"AR1_correction\", \"timeSeriesLength\": 100, \"trueRho\": \"\\u03c1=0.5\", \"rate\": 0.9600000000000006, \"confInt\": 0.03840799916683994}, {\"methodName\": \"AR1_correction\", \"timeSeriesLength\": 100, \"trueRho\": \"\\u03c1=0.7\", \"rate\": 0.9200000000000006, \"confInt\": 0.05317346706770192}, {\"methodName\": \"AR1_correction\", \"timeSeriesLength\": 100, \"trueRho\": \"\\u03c1=0.9\", \"rate\": 0.9000000000000006, \"confInt\": 0.058799999999999845}, {\"methodName\": \"AR1_correction\", \"timeSeriesLength\": 300, \"trueRho\": \"\\u03c1=0.1\", \"rate\": 0.9100000000000006, \"confInt\": 0.05609162504331623}, {\"methodName\": \"AR1_correction\", \"timeSeriesLength\": 300, \"trueRho\": \"\\u03c1=0.3\", \"rate\": 0.9800000000000006, \"confInt\": 0.027439999999999565}, {\"methodName\": \"AR1_correction\", \"timeSeriesLength\": 300, \"trueRho\": \"\\u03c1=0.5\", \"rate\": 0.9600000000000006, \"confInt\": 0.03840799916683994}, {\"methodName\": \"AR1_correction\", \"timeSeriesLength\": 300, \"trueRho\": \"\\u03c1=0.7\", \"rate\": 0.9300000000000006, \"confInt\": 0.05000881522291825}, {\"methodName\": \"AR1_correction\", \"timeSeriesLength\": 300, \"trueRho\": \"\\u03c1=0.9\", \"rate\": 0.9700000000000006, \"confInt\": 0.033435095334094334}, {\"methodName\": \"AR1_correction\", \"timeSeriesLength\": 1000, \"trueRho\": \"\\u03c1=0.1\", \"rate\": 0.9300000000000006, \"confInt\": 0.05000881522291825}, {\"methodName\": \"AR1_correction\", \"timeSeriesLength\": 1000, \"trueRho\": \"\\u03c1=0.3\", \"rate\": 0.9500000000000006, \"confInt\": 0.04271720964669835}, {\"methodName\": \"AR1_correction\", \"timeSeriesLength\": 1000, \"trueRho\": \"\\u03c1=0.5\", \"rate\": 0.9500000000000006, \"confInt\": 0.04271720964669835}, {\"methodName\": \"AR1_correction\", \"timeSeriesLength\": 1000, \"trueRho\": \"\\u03c1=0.7\", \"rate\": 0.9600000000000006, \"confInt\": 0.03840799916683994}, {\"methodName\": \"AR1_correction\", \"timeSeriesLength\": 1000, \"trueRho\": \"\\u03c1=0.9\", \"rate\": 0.9400000000000006, \"confInt\": 0.046547420981188414}, {\"methodName\": \"AR1_correction\", \"timeSeriesLength\": 3000, \"trueRho\": \"\\u03c1=0.1\", \"rate\": 0.9600000000000006, \"confInt\": 0.03840799916683994}, {\"methodName\": \"AR1_correction\", \"timeSeriesLength\": 3000, \"trueRho\": \"\\u03c1=0.3\", \"rate\": 0.9800000000000006, \"confInt\": 0.027439999999999565}, {\"methodName\": \"AR1_correction\", \"timeSeriesLength\": 3000, \"trueRho\": \"\\u03c1=0.5\", \"rate\": 0.9500000000000006, \"confInt\": 0.04271720964669835}, {\"methodName\": \"AR1_correction\", \"timeSeriesLength\": 3000, \"trueRho\": \"\\u03c1=0.7\", \"rate\": 0.9200000000000006, \"confInt\": 0.05317346706770192}, {\"methodName\": \"AR1_correction\", \"timeSeriesLength\": 3000, \"trueRho\": \"\\u03c1=0.9\", \"rate\": 0.9200000000000006, \"confInt\": 0.05317346706770192}, {\"methodName\": \"BlockAveraging\", \"timeSeriesLength\": 30, \"trueRho\": \"\\u03c1=0.1\", \"rate\": 0.9500000000000006, \"confInt\": 0.04271720964669835}, {\"methodName\": \"BlockAveraging\", \"timeSeriesLength\": 30, \"trueRho\": \"\\u03c1=0.3\", \"rate\": 0.9600000000000006, \"confInt\": 0.03840799916683994}, {\"methodName\": \"BlockAveraging\", \"timeSeriesLength\": 30, \"trueRho\": \"\\u03c1=0.5\", \"rate\": 0.9300000000000006, \"confInt\": 0.05000881522291825}, {\"methodName\": \"BlockAveraging\", \"timeSeriesLength\": 30, \"trueRho\": \"\\u03c1=0.7\", \"rate\": 0.9000000000000006, \"confInt\": 0.058799999999999845}, {\"methodName\": \"BlockAveraging\", \"timeSeriesLength\": 30, \"trueRho\": \"\\u03c1=0.9\", \"rate\": 0.7500000000000004, \"confInt\": 0.08487048957087494}, {\"methodName\": \"BlockAveraging\", \"timeSeriesLength\": 100, \"trueRho\": \"\\u03c1=0.1\", \"rate\": 0.9600000000000006, \"confInt\": 0.03840799916683994}, {\"methodName\": \"BlockAveraging\", \"timeSeriesLength\": 100, \"trueRho\": \"\\u03c1=0.3\", \"rate\": 0.9200000000000006, \"confInt\": 0.05317346706770192}, {\"methodName\": \"BlockAveraging\", \"timeSeriesLength\": 100, \"trueRho\": \"\\u03c1=0.5\", \"rate\": 0.9400000000000006, \"confInt\": 0.046547420981188414}, {\"methodName\": \"BlockAveraging\", \"timeSeriesLength\": 100, \"trueRho\": \"\\u03c1=0.7\", \"rate\": 0.9000000000000006, \"confInt\": 0.058799999999999845}, {\"methodName\": \"BlockAveraging\", \"timeSeriesLength\": 100, \"trueRho\": \"\\u03c1=0.9\", \"rate\": 0.8600000000000005, \"confInt\": 0.06800945816575797}, {\"methodName\": \"BlockAveraging\", \"timeSeriesLength\": 300, \"trueRho\": \"\\u03c1=0.1\", \"rate\": 0.9700000000000006, \"confInt\": 0.033435095334094334}, {\"methodName\": \"BlockAveraging\", \"timeSeriesLength\": 300, \"trueRho\": \"\\u03c1=0.3\", \"rate\": 0.9500000000000006, \"confInt\": 0.04271720964669835}, {\"methodName\": \"BlockAveraging\", \"timeSeriesLength\": 300, \"trueRho\": \"\\u03c1=0.5\", \"rate\": 0.9400000000000006, \"confInt\": 0.046547420981188414}, {\"methodName\": \"BlockAveraging\", \"timeSeriesLength\": 300, \"trueRho\": \"\\u03c1=0.7\", \"rate\": 0.9200000000000006, \"confInt\": 0.05317346706770192}, {\"methodName\": \"BlockAveraging\", \"timeSeriesLength\": 300, \"trueRho\": \"\\u03c1=0.9\", \"rate\": 0.9700000000000006, \"confInt\": 0.033435095334094334}, {\"methodName\": \"BlockAveraging\", \"timeSeriesLength\": 1000, \"trueRho\": \"\\u03c1=0.1\", \"rate\": 0.9200000000000006, \"confInt\": 0.05317346706770192}, {\"methodName\": \"BlockAveraging\", \"timeSeriesLength\": 1000, \"trueRho\": \"\\u03c1=0.3\", \"rate\": 0.9600000000000006, \"confInt\": 0.03840799916683994}, {\"methodName\": \"BlockAveraging\", \"timeSeriesLength\": 1000, \"trueRho\": \"\\u03c1=0.5\", \"rate\": 0.9600000000000006, \"confInt\": 0.03840799916683994}, {\"methodName\": \"BlockAveraging\", \"timeSeriesLength\": 1000, \"trueRho\": \"\\u03c1=0.7\", \"rate\": 0.9600000000000006, \"confInt\": 0.03840799916683994}, {\"methodName\": \"BlockAveraging\", \"timeSeriesLength\": 1000, \"trueRho\": \"\\u03c1=0.9\", \"rate\": 0.9400000000000006, \"confInt\": 0.046547420981188414}, {\"methodName\": \"BlockAveraging\", \"timeSeriesLength\": 3000, \"trueRho\": \"\\u03c1=0.1\", \"rate\": 0.9700000000000006, \"confInt\": 0.033435095334094334}, {\"methodName\": \"BlockAveraging\", \"timeSeriesLength\": 3000, \"trueRho\": \"\\u03c1=0.3\", \"rate\": 0.9700000000000006, \"confInt\": 0.033435095334094334}, {\"methodName\": \"BlockAveraging\", \"timeSeriesLength\": 3000, \"trueRho\": \"\\u03c1=0.5\", \"rate\": 0.9500000000000006, \"confInt\": 0.04271720964669835}, {\"methodName\": \"BlockAveraging\", \"timeSeriesLength\": 3000, \"trueRho\": \"\\u03c1=0.7\", \"rate\": 0.9300000000000006, \"confInt\": 0.05000881522291825}, {\"methodName\": \"BlockAveraging\", \"timeSeriesLength\": 3000, \"trueRho\": \"\\u03c1=0.9\", \"rate\": 0.9400000000000006, \"confInt\": 0.046547420981188414}, {\"methodName\": \"Chodera\", \"timeSeriesLength\": 30, \"trueRho\": \"\\u03c1=0.1\", \"rate\": 0.9400000000000006, \"confInt\": 0.046547420981188414}, {\"methodName\": \"Chodera\", \"timeSeriesLength\": 30, \"trueRho\": \"\\u03c1=0.3\", \"rate\": 0.9400000000000006, \"confInt\": 0.046547420981188414}, {\"methodName\": \"Chodera\", \"timeSeriesLength\": 30, \"trueRho\": \"\\u03c1=0.5\", \"rate\": 0.8600000000000005, \"confInt\": 0.06800945816575797}, {\"methodName\": \"Chodera\", \"timeSeriesLength\": 30, \"trueRho\": \"\\u03c1=0.7\", \"rate\": 0.8500000000000005, \"confInt\": 0.06998599859971982}, {\"methodName\": \"Chodera\", \"timeSeriesLength\": 30, \"trueRho\": \"\\u03c1=0.9\", \"rate\": 0.5600000000000003, \"confInt\": 0.09729184138456831}, {\"methodName\": \"Chodera\", \"timeSeriesLength\": 100, \"trueRho\": \"\\u03c1=0.1\", \"rate\": 0.9500000000000006, \"confInt\": 0.04271720964669835}, {\"methodName\": \"Chodera\", \"timeSeriesLength\": 100, \"trueRho\": \"\\u03c1=0.3\", \"rate\": 0.9200000000000006, \"confInt\": 0.05317346706770192}, {\"methodName\": \"Chodera\", \"timeSeriesLength\": 100, \"trueRho\": \"\\u03c1=0.5\", \"rate\": 0.9500000000000006, \"confInt\": 0.04271720964669835}, {\"methodName\": \"Chodera\", \"timeSeriesLength\": 100, \"trueRho\": \"\\u03c1=0.7\", \"rate\": 0.9200000000000006, \"confInt\": 0.05317346706770192}, {\"methodName\": \"Chodera\", \"timeSeriesLength\": 100, \"trueRho\": \"\\u03c1=0.9\", \"rate\": 0.8000000000000005, \"confInt\": 0.07839999999999993}, {\"methodName\": \"Chodera\", \"timeSeriesLength\": 300, \"trueRho\": \"\\u03c1=0.1\", \"rate\": 0.9500000000000006, \"confInt\": 0.04271720964669835}, {\"methodName\": \"Chodera\", \"timeSeriesLength\": 300, \"trueRho\": \"\\u03c1=0.3\", \"rate\": 0.9700000000000006, \"confInt\": 0.033435095334094334}, {\"methodName\": \"Chodera\", \"timeSeriesLength\": 300, \"trueRho\": \"\\u03c1=0.5\", \"rate\": 0.9400000000000006, \"confInt\": 0.046547420981188414}, {\"methodName\": \"Chodera\", \"timeSeriesLength\": 300, \"trueRho\": \"\\u03c1=0.7\", \"rate\": 0.9500000000000006, \"confInt\": 0.04271720964669835}, {\"methodName\": \"Chodera\", \"timeSeriesLength\": 300, \"trueRho\": \"\\u03c1=0.9\", \"rate\": 0.9200000000000006, \"confInt\": 0.05317346706770192}, {\"methodName\": \"Chodera\", \"timeSeriesLength\": 1000, \"trueRho\": \"\\u03c1=0.1\", \"rate\": 0.9400000000000006, \"confInt\": 0.046547420981188414}, {\"methodName\": \"Chodera\", \"timeSeriesLength\": 1000, \"trueRho\": \"\\u03c1=0.3\", \"rate\": 0.9500000000000006, \"confInt\": 0.04271720964669835}, {\"methodName\": \"Chodera\", \"timeSeriesLength\": 1000, \"trueRho\": \"\\u03c1=0.5\", \"rate\": 0.9600000000000006, \"confInt\": 0.03840799916683994}, {\"methodName\": \"Chodera\", \"timeSeriesLength\": 1000, \"trueRho\": \"\\u03c1=0.7\", \"rate\": 0.9600000000000006, \"confInt\": 0.03840799916683994}, {\"methodName\": \"Chodera\", \"timeSeriesLength\": 1000, \"trueRho\": \"\\u03c1=0.9\", \"rate\": 0.9400000000000006, \"confInt\": 0.046547420981188414}, {\"methodName\": \"Chodera\", \"timeSeriesLength\": 3000, \"trueRho\": \"\\u03c1=0.1\", \"rate\": 0.9600000000000006, \"confInt\": 0.03840799916683994}, {\"methodName\": \"Chodera\", \"timeSeriesLength\": 3000, \"trueRho\": \"\\u03c1=0.3\", \"rate\": 0.9800000000000006, \"confInt\": 0.027439999999999565}, {\"methodName\": \"Chodera\", \"timeSeriesLength\": 3000, \"trueRho\": \"\\u03c1=0.5\", \"rate\": 0.9500000000000006, \"confInt\": 0.04271720964669835}, {\"methodName\": \"Chodera\", \"timeSeriesLength\": 3000, \"trueRho\": \"\\u03c1=0.7\", \"rate\": 0.9100000000000006, \"confInt\": 0.05609162504331623}, {\"methodName\": \"Chodera\", \"timeSeriesLength\": 3000, \"trueRho\": \"\\u03c1=0.9\", \"rate\": 0.9300000000000006, \"confInt\": 0.05000881522291825}, {\"methodName\": \"Sokal\", \"timeSeriesLength\": 30, \"trueRho\": \"\\u03c1=0.1\", \"rate\": 0.7900000000000005, \"confInt\": 0.07983241446931183}, {\"methodName\": \"Sokal\", \"timeSeriesLength\": 30, \"trueRho\": \"\\u03c1=0.3\", \"rate\": 0.8000000000000005, \"confInt\": 0.07839999999999993}, {\"methodName\": \"Sokal\", \"timeSeriesLength\": 30, \"trueRho\": \"\\u03c1=0.5\", \"rate\": 0.6900000000000004, \"confInt\": 0.09064867566600185}, {\"methodName\": \"Sokal\", \"timeSeriesLength\": 30, \"trueRho\": \"\\u03c1=0.7\", \"rate\": 0.6800000000000004, \"confInt\": 0.09142932571117428}, {\"methodName\": \"Sokal\", \"timeSeriesLength\": 30, \"trueRho\": \"\\u03c1=0.9\", \"rate\": 0.3900000000000002, \"confInt\": 0.09559898744233646}, {\"methodName\": \"Sokal\", \"timeSeriesLength\": 100, \"trueRho\": \"\\u03c1=0.1\", \"rate\": 0.9200000000000006, \"confInt\": 0.05317346706770192}, {\"methodName\": \"Sokal\", \"timeSeriesLength\": 100, \"trueRho\": \"\\u03c1=0.3\", \"rate\": 0.8500000000000005, \"confInt\": 0.06998599859971982}, {\"methodName\": \"Sokal\", \"timeSeriesLength\": 100, \"trueRho\": \"\\u03c1=0.5\", \"rate\": 0.9100000000000006, \"confInt\": 0.05609162504331623}, {\"methodName\": \"Sokal\", \"timeSeriesLength\": 100, \"trueRho\": \"\\u03c1=0.7\", \"rate\": 0.8000000000000005, \"confInt\": 0.07839999999999993}, {\"methodName\": \"Sokal\", \"timeSeriesLength\": 100, \"trueRho\": \"\\u03c1=0.9\", \"rate\": 0.7100000000000004, \"confInt\": 0.08893736222758124}, {\"methodName\": \"Sokal\", \"timeSeriesLength\": 300, \"trueRho\": \"\\u03c1=0.1\", \"rate\": 0.9400000000000006, \"confInt\": 0.046547420981188414}, {\"methodName\": \"Sokal\", \"timeSeriesLength\": 300, \"trueRho\": \"\\u03c1=0.3\", \"rate\": 0.9500000000000006, \"confInt\": 0.04271720964669835}, {\"methodName\": \"Sokal\", \"timeSeriesLength\": 300, \"trueRho\": \"\\u03c1=0.5\", \"rate\": 0.9300000000000006, \"confInt\": 0.05000881522291825}, {\"methodName\": \"Sokal\", \"timeSeriesLength\": 300, \"trueRho\": \"\\u03c1=0.7\", \"rate\": 0.8600000000000005, \"confInt\": 0.06800945816575797}, {\"methodName\": \"Sokal\", \"timeSeriesLength\": 300, \"trueRho\": \"\\u03c1=0.9\", \"rate\": 0.8700000000000006, \"confInt\": 0.06591547314553682}, {\"methodName\": \"Sokal\", \"timeSeriesLength\": 1000, \"trueRho\": \"\\u03c1=0.1\", \"rate\": 0.9200000000000006, \"confInt\": 0.05317346706770192}, {\"methodName\": \"Sokal\", \"timeSeriesLength\": 1000, \"trueRho\": \"\\u03c1=0.3\", \"rate\": 0.9600000000000006, \"confInt\": 0.03840799916683994}, {\"methodName\": \"Sokal\", \"timeSeriesLength\": 1000, \"trueRho\": \"\\u03c1=0.5\", \"rate\": 0.9500000000000006, \"confInt\": 0.04271720964669835}, {\"methodName\": \"Sokal\", \"timeSeriesLength\": 1000, \"trueRho\": \"\\u03c1=0.7\", \"rate\": 0.9500000000000006, \"confInt\": 0.04271720964669835}, {\"methodName\": \"Sokal\", \"timeSeriesLength\": 1000, \"trueRho\": \"\\u03c1=0.9\", \"rate\": 0.9100000000000006, \"confInt\": 0.05609162504331623}, {\"methodName\": \"Sokal\", \"timeSeriesLength\": 3000, \"trueRho\": \"\\u03c1=0.1\", \"rate\": 0.9600000000000006, \"confInt\": 0.03840799916683994}, {\"methodName\": \"Sokal\", \"timeSeriesLength\": 3000, \"trueRho\": \"\\u03c1=0.3\", \"rate\": 0.9800000000000006, \"confInt\": 0.027439999999999565}, {\"methodName\": \"Sokal\", \"timeSeriesLength\": 3000, \"trueRho\": \"\\u03c1=0.5\", \"rate\": 0.9500000000000006, \"confInt\": 0.04271720964669835}, {\"methodName\": \"Sokal\", \"timeSeriesLength\": 3000, \"trueRho\": \"\\u03c1=0.7\", \"rate\": 0.9000000000000006, \"confInt\": 0.058799999999999845}, {\"methodName\": \"Sokal\", \"timeSeriesLength\": 3000, \"trueRho\": \"\\u03c1=0.9\", \"rate\": 0.9300000000000006, \"confInt\": 0.05000881522291825}]}}, {\"mode\": \"vega-lite\"});\n",
       "</script>"
      ],
      "text/plain": [
       "alt.FacetChart(...)"
      ]
     },
     "execution_count": 349,
     "metadata": {},
     "output_type": "execute_result"
    }
   ],
   "source": [
    "chart.interactive()"
   ]
  },
  {
   "cell_type": "code",
   "execution_count": null,
   "metadata": {},
   "outputs": [],
   "source": []
  },
  {
   "cell_type": "code",
   "execution_count": null,
   "metadata": {},
   "outputs": [],
   "source": []
  }
 ],
 "metadata": {
  "kernelspec": {
   "display_name": "Python 3",
   "language": "python",
   "name": "python3"
  },
  "language_info": {
   "codemirror_mode": {
    "name": "ipython",
    "version": 3
   },
   "file_extension": ".py",
   "mimetype": "text/x-python",
   "name": "python",
   "nbconvert_exporter": "python",
   "pygments_lexer": "ipython3",
   "version": "3.7.6"
  }
 },
 "nbformat": 4,
 "nbformat_minor": 4
}
