{
 "cells": [
  {
   "cell_type": "markdown",
   "metadata": {},
   "source": [
    "# Intro to confidence intervals for time series \n",
    "\n",
    "This page compares different methods of calculating the SEM for a stationary time series. \n",
    "\n",
    "It compares the popular 'block average' to several alternatives. Bayes model of an AR(1) process fares best in cases of limited data."
   ]
  },
  {
   "cell_type": "code",
   "execution_count": 6,
   "metadata": {},
   "outputs": [],
   "source": [
    "import plot_utils\n",
    "from altair_saver import save\n",
    "#plot_utils.plot_results_interactive()\n",
    "chart = plot_utils.plot_results_static()\n",
    "save(chart, 'chart.png')"
   ]
  },
  {
   "cell_type": "markdown",
   "metadata": {},
   "source": [
    "![title](./chart.png)"
   ]
  }
 ],
 "metadata": {
  "kernelspec": {
   "display_name": "Python 3",
   "language": "python",
   "name": "python3"
  },
  "language_info": {
   "codemirror_mode": {
    "name": "ipython",
    "version": 3
   },
   "file_extension": ".py",
   "mimetype": "text/x-python",
   "name": "python",
   "nbconvert_exporter": "python",
   "pygments_lexer": "ipython3",
   "version": "3.7.6"
  }
 },
 "nbformat": 4,
 "nbformat_minor": 4
}
